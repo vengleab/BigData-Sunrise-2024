{
 "cells": [
  {
   "cell_type": "code",
   "execution_count": 1,
   "id": "824fd284-ecb0-4bda-bf21-df6dff4891b6",
   "metadata": {
    "tags": []
   },
   "outputs": [
    {
     "name": "stderr",
     "output_type": "stream",
     "text": [
      "24/04/08 20:09:02 WARN Utils: Your hostname, Macbooks-MacBook-Pro-2.local resolves to a loopback address: 127.0.0.1; using 10.5.51.239 instead (on interface en0)\n",
      "24/04/08 20:09:02 WARN Utils: Set SPARK_LOCAL_IP if you need to bind to another address\n",
      "Setting default log level to \"WARN\".\n",
      "To adjust logging level use sc.setLogLevel(newLevel). For SparkR, use setLogLevel(newLevel).\n",
      "24/04/08 20:09:02 WARN NativeCodeLoader: Unable to load native-hadoop library for your platform... using builtin-java classes where applicable\n",
      "24/04/08 20:09:03 WARN Utils: Service 'SparkUI' could not bind on port 4040. Attempting port 4041.\n"
     ]
    }
   ],
   "source": [
    "from pyspark.sql.session import SparkSession\n",
    "\n",
    "spark = SparkSession.builder.getOrCreate()"
   ]
  },
  {
   "cell_type": "code",
   "execution_count": 2,
   "id": "c480604f-fab8-4969-9888-e3e74e140b04",
   "metadata": {
    "tags": []
   },
   "outputs": [],
   "source": [
    "# from pyspark.ml.regression import LinearRegression"
   ]
  },
  {
   "cell_type": "code",
   "execution_count": 3,
   "id": "64110a7f-ab53-46ad-8445-74d76f5a061f",
   "metadata": {
    "tags": []
   },
   "outputs": [],
   "source": [
    "from pyspark.ml.pipeline import PipelineModel"
   ]
  },
  {
   "cell_type": "code",
   "execution_count": 4,
   "id": "7bb7c0f9-bcf7-4ac8-9983-71eaec3ee63b",
   "metadata": {
    "tags": []
   },
   "outputs": [],
   "source": [
    "model = PipelineModel.load(\"spark_v2.model\")"
   ]
  },
  {
   "cell_type": "code",
   "execution_count": 5,
   "id": "b4360758-686a-466d-a6d4-fcb4276bf1f4",
   "metadata": {
    "tags": []
   },
   "outputs": [
    {
     "name": "stdout",
     "output_type": "stream",
     "text": [
      "+-------------+-----+------+\n",
      "|learning_hour|score|gender|\n",
      "+-------------+-----+------+\n",
      "|           50| 50.0|female|\n",
      "|           60| 51.0|female|\n",
      "|          100| 60.0|female|\n",
      "|          120| 65.0|female|\n",
      "|          150| 80.0|female|\n",
      "|          170| 82.0|female|\n",
      "|          200|100.0|female|\n",
      "|          200| 90.0| other|\n",
      "+-------------+-----+------+\n",
      "\n"
     ]
    }
   ],
   "source": [
    "data = spark.read.csv(\"data.csv\", header=True, inferSchema=True)\n",
    "data.show()"
   ]
  },
  {
   "cell_type": "code",
   "execution_count": 6,
   "id": "061e06c7-2ee6-48c6-aab8-e853e14e990a",
   "metadata": {
    "tags": []
   },
   "outputs": [
    {
     "name": "stdout",
     "output_type": "stream",
     "text": [
      "+-------------+-----+------+------------+-------------+--------+------------------+\n",
      "|learning_hour|score|gender|gender_index|gender_onehot|features|        prediction|\n",
      "+-------------+-----+------+------------+-------------+--------+------------------+\n",
      "|           50| 50.0|female|         0.0|(1,[0],[1.0])|  [50.0]|47.162428645563054|\n",
      "|           60| 51.0|female|         0.0|(1,[0],[1.0])|  [60.0]| 50.25012973533991|\n",
      "|          100| 60.0|female|         0.0|(1,[0],[1.0])| [100.0]| 62.60093409444733|\n",
      "|          120| 65.0|female|         0.0|(1,[0],[1.0])| [120.0]| 68.77633627400104|\n",
      "|          150| 80.0|female|         0.0|(1,[0],[1.0])| [150.0]| 78.03943954333161|\n",
      "|          170| 82.0|female|         0.0|(1,[0],[1.0])| [170.0]| 84.21484172288532|\n",
      "|          200|100.0|female|         0.0|(1,[0],[1.0])| [200.0]|  93.4779449922159|\n",
      "|          200| 90.0| other|         1.0|    (1,[],[])| [200.0]|  93.4779449922159|\n",
      "+-------------+-----+------+------------+-------------+--------+------------------+\n",
      "\n"
     ]
    },
    {
     "name": "stderr",
     "output_type": "stream",
     "text": [
      "24/04/08 20:09:08 WARN InstanceBuilder: Failed to load implementation from:dev.ludovic.netlib.blas.JNIBLAS\n"
     ]
    }
   ],
   "source": [
    "model.transform(data).show()"
   ]
  },
  {
   "cell_type": "code",
   "execution_count": null,
   "id": "c4fbfdbe-0da7-4150-bc47-ba230bf14007",
   "metadata": {},
   "outputs": [],
   "source": []
  }
 ],
 "metadata": {
  "kernelspec": {
   "display_name": "Python 3 (ipykernel)",
   "language": "python",
   "name": "python3"
  },
  "language_info": {
   "codemirror_mode": {
    "name": "ipython",
    "version": 3
   },
   "file_extension": ".py",
   "mimetype": "text/x-python",
   "name": "python",
   "nbconvert_exporter": "python",
   "pygments_lexer": "ipython3",
   "version": "3.11.5"
  }
 },
 "nbformat": 4,
 "nbformat_minor": 5
}
