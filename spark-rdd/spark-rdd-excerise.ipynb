{
 "cells": [
  {
   "cell_type": "code",
   "execution_count": 1,
   "id": "b3656569-3738-406a-848d-01e880b29fac",
   "metadata": {
    "tags": []
   },
   "outputs": [],
   "source": [
    "from pyspark.sql.session import SparkSession"
   ]
  },
  {
   "cell_type": "code",
   "execution_count": 2,
   "id": "287ec6d6-ef89-4930-ba19-1f8009533c67",
   "metadata": {
    "tags": []
   },
   "outputs": [
    {
     "name": "stderr",
     "output_type": "stream",
     "text": [
      "24/03/21 18:48:07 WARN Utils: Your hostname, Macbooks-MacBook-Pro-2.local resolves to a loopback address: 127.0.0.1; using 10.5.50.139 instead (on interface en0)\n",
      "24/03/21 18:48:07 WARN Utils: Set SPARK_LOCAL_IP if you need to bind to another address\n",
      "Setting default log level to \"WARN\".\n",
      "To adjust logging level use sc.setLogLevel(newLevel). For SparkR, use setLogLevel(newLevel).\n",
      "24/03/21 18:48:08 WARN NativeCodeLoader: Unable to load native-hadoop library for your platform... using builtin-java classes where applicable\n"
     ]
    }
   ],
   "source": [
    "spark = SparkSession.builder.getOrCreate()"
   ]
  },
  {
   "cell_type": "code",
   "execution_count": 21,
   "id": "f20b8c45-9fb9-4d56-b26b-2a22f55c31dd",
   "metadata": {
    "tags": []
   },
   "outputs": [],
   "source": [
    "new_rdd_text = spark.sparkContext.textFile(\"./untitled2.txt\")"
   ]
  },
  {
   "cell_type": "code",
   "execution_count": 85,
   "id": "8e125958-ed6f-47d7-b344-9f51395882d7",
   "metadata": {
    "tags": []
   },
   "outputs": [
    {
     "ename": "IndentationError",
     "evalue": "unexpected indent (2709027213.py, line 5)",
     "output_type": "error",
     "traceback": [
      "\u001b[0;36m  Cell \u001b[0;32mIn[85], line 5\u001b[0;36m\u001b[0m\n\u001b[0;31m    .map(lambda lines: lines.split()).flatMap(lambda word: word).map(lambda word: (re.sub(r'\\W', '', word), 1))\\\u001b[0m\n\u001b[0m    ^\u001b[0m\n\u001b[0;31mIndentationError\u001b[0m\u001b[0;31m:\u001b[0m unexpected indent\n"
     ]
    }
   ],
   "source": [
    "import re\n",
    "\n",
    "\n",
    "(new_rdd_text \n",
    "    .map(lambda lines: lines.split()) # loop each lines, split lines of text to word\n",
    "    .flatMap(lambda word: word)  # flatten the word into single column\n",
    "    .map(lambda word: (re.sub(r'\\W', '', word), 1))  # per word, remove non alpha using RE, add number (1) Ex: (hell, 1), (dog, 1)\n",
    "    .reduceByKey(lambda cumlative_count, count: cumlative_count+count) \n",
    "    .sortBy(lambda item: item[1], ascending=True) \n",
    "    .collect() # get result\n",
    ")"
   ]
  },
  {
   "cell_type": "code",
   "execution_count": null,
   "id": "4b3dc515-97f4-40b8-b75a-48733e356b10",
   "metadata": {},
   "outputs": [],
   "source": [
    "new_rdd_text.sortBy"
   ]
  }
 ],
 "metadata": {
  "kernelspec": {
   "display_name": "Python 3 (ipykernel)",
   "language": "python",
   "name": "python3"
  },
  "language_info": {
   "codemirror_mode": {
    "name": "ipython",
    "version": 3
   },
   "file_extension": ".py",
   "mimetype": "text/x-python",
   "name": "python",
   "nbconvert_exporter": "python",
   "pygments_lexer": "ipython3",
   "version": "3.11.5"
  }
 },
 "nbformat": 4,
 "nbformat_minor": 5
}
