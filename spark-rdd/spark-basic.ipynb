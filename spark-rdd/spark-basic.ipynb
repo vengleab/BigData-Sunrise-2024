{
 "cells": [
  {
   "cell_type": "code",
   "execution_count": 1,
   "id": "4ec4d6ce-b312-4948-961b-17b52a064b81",
   "metadata": {
    "tags": []
   },
   "outputs": [],
   "source": [
    "from pyspark.sql.session import SparkSession"
   ]
  },
  {
   "cell_type": "code",
   "execution_count": 2,
   "id": "1e4ce4c0-2368-4684-a4f9-b59257b98e3e",
   "metadata": {},
   "outputs": [
    {
     "name": "stderr",
     "output_type": "stream",
     "text": [
      "24/03/20 19:20:08 WARN Utils: Your hostname, Macbooks-MacBook-Pro-2.local resolves to a loopback address: 127.0.0.1; using 10.5.50.139 instead (on interface en0)\n",
      "24/03/20 19:20:08 WARN Utils: Set SPARK_LOCAL_IP if you need to bind to another address\n",
      "Setting default log level to \"WARN\".\n",
      "To adjust logging level use sc.setLogLevel(newLevel). For SparkR, use setLogLevel(newLevel).\n",
      "24/03/20 19:20:08 WARN NativeCodeLoader: Unable to load native-hadoop library for your platform... using builtin-java classes where applicable\n"
     ]
    }
   ],
   "source": [
    "spark = SparkSession.builder.getOrCreate()"
   ]
  },
  {
   "cell_type": "code",
   "execution_count": 8,
   "id": "fef215d0-7b3b-4148-a681-30a2577c097d",
   "metadata": {
    "tags": []
   },
   "outputs": [
    {
     "data": {
      "text/html": [
       "\n",
       "            <div>\n",
       "                <p><b>SparkSession - in-memory</b></p>\n",
       "                \n",
       "        <div>\n",
       "            <p><b>SparkContext</b></p>\n",
       "\n",
       "            <p><a href=\"http://10.5.50.139:4041\">Spark UI</a></p>\n",
       "\n",
       "            <dl>\n",
       "              <dt>Version</dt>\n",
       "                <dd><code>v3.5.1</code></dd>\n",
       "              <dt>Master</dt>\n",
       "                <dd><code>local[*]</code></dd>\n",
       "              <dt>AppName</dt>\n",
       "                <dd><code>pyspark-shell</code></dd>\n",
       "            </dl>\n",
       "        </div>\n",
       "        \n",
       "            </div>\n",
       "        "
      ],
      "text/plain": [
       "<pyspark.sql.session.SparkSession at 0x124388c10>"
      ]
     },
     "execution_count": 8,
     "metadata": {},
     "output_type": "execute_result"
    }
   ],
   "source": [
    "spark"
   ]
  },
  {
   "cell_type": "code",
   "execution_count": 3,
   "id": "31d590dc-5ba4-47a1-80a1-abcdc580a262",
   "metadata": {},
   "outputs": [],
   "source": [
    "context = spark.sparkContext"
   ]
  },
  {
   "cell_type": "code",
   "execution_count": 49,
   "id": "9eb479c6-038c-46f1-b258-7afaf44abdf0",
   "metadata": {
    "tags": []
   },
   "outputs": [],
   "source": [
    "data = context.textFile(\"./untitled.txt\")"
   ]
  },
  {
   "cell_type": "code",
   "execution_count": 50,
   "id": "2fb617a0-60cc-4745-906b-0d131629231a",
   "metadata": {
    "tags": []
   },
   "outputs": [],
   "source": [
    "def split_data(lines):\n",
    "    print(f\"lines ====> {lines}\")\n",
    "    words = lines.split(\" \")\n",
    "\n",
    "    return words\n",
    "\n",
    "new_rdd = data.map(split_data)"
   ]
  },
  {
   "cell_type": "code",
   "execution_count": 51,
   "id": "c4264551-2d71-4707-bc23-78519f4c1259",
   "metadata": {
    "tags": []
   },
   "outputs": [
    {
     "data": {
      "text/plain": [
       "['Hello',\n",
       " 'my name is Mr. Sambath, Hello ,Hello ,Hello',\n",
       " 'This is big class.',\n",
       " 'Today is Wednesday',\n",
       " 'Hello',\n",
       " 'my name is Mr. Sambath, Hello ,Hello ,Hello',\n",
       " 'This is big class.',\n",
       " 'Today is Wednesday',\n",
       " 'Hello',\n",
       " 'my name is Mr. Sambath, Hello ,Hello ,Hello',\n",
       " 'This is big class.',\n",
       " 'Today is WednesdayHello',\n",
       " 'my name is Mr. Sambath, Hello ,Hello ,Hello',\n",
       " 'This is big class.',\n",
       " 'Today is Wednesday']"
      ]
     },
     "execution_count": 51,
     "metadata": {},
     "output_type": "execute_result"
    }
   ],
   "source": [
    "data.collect()"
   ]
  },
  {
   "cell_type": "code",
   "execution_count": 52,
   "id": "5749a9a5-58be-4720-8834-66bf5f4bf44c",
   "metadata": {
    "tags": []
   },
   "outputs": [
    {
     "name": "stderr",
     "output_type": "stream",
     "text": [
      "lines ====> Hello\n",
      "lines ====> my name is Mr. Sambath, Hello ,Hello ,Hello\n",
      "lines ====> This is big class.\n",
      "lines ====> Today is WednesdayHello\n",
      "lines ====> my name is Mr. Sambath, Hello ,Hello ,Hello\n",
      "lines ====> This is big class.\n",
      "lines ====> Today is Wednesday\n",
      "lines ====> Hello\n",
      "lines ====> my name is Mr. Sambath, Hello ,Hello ,Hello\n",
      "lines ====> This is big class.\n",
      "lines ====> Today is Wednesday\n",
      "lines ====> Hello\n",
      "lines ====> my name is Mr. Sambath, Hello ,Hello ,Hello\n",
      "lines ====> This is big class.\n",
      "lines ====> Today is Wednesday\n"
     ]
    },
    {
     "data": {
      "text/plain": [
       "[['Hello'],\n",
       " ['my', 'name', 'is', 'Mr.', 'Sambath,', 'Hello', ',Hello', ',Hello'],\n",
       " ['This', 'is', 'big', 'class.'],\n",
       " ['Today', 'is', 'Wednesday'],\n",
       " ['Hello'],\n",
       " ['my', 'name', 'is', 'Mr.', 'Sambath,', 'Hello', ',Hello', ',Hello'],\n",
       " ['This', 'is', 'big', 'class.'],\n",
       " ['Today', 'is', 'Wednesday'],\n",
       " ['Hello'],\n",
       " ['my', 'name', 'is', 'Mr.', 'Sambath,', 'Hello', ',Hello', ',Hello'],\n",
       " ['This', 'is', 'big', 'class.'],\n",
       " ['Today', 'is', 'WednesdayHello'],\n",
       " ['my', 'name', 'is', 'Mr.', 'Sambath,', 'Hello', ',Hello', ',Hello'],\n",
       " ['This', 'is', 'big', 'class.'],\n",
       " ['Today', 'is', 'Wednesday']]"
      ]
     },
     "execution_count": 52,
     "metadata": {},
     "output_type": "execute_result"
    }
   ],
   "source": [
    "new_rdd.collect()"
   ]
  },
  {
   "cell_type": "code",
   "execution_count": 67,
   "id": "d2860670-49d6-4bed-8386-2b367c3a8b11",
   "metadata": {
    "tags": []
   },
   "outputs": [],
   "source": [
    "def function_add(prev, new_value):\n",
    "    return prev + new_value"
   ]
  },
  {
   "cell_type": "code",
   "execution_count": 59,
   "id": "3f9e90e3-f8bf-4256-8504-1cf6b12c2107",
   "metadata": {
    "tags": []
   },
   "outputs": [
    {
     "name": "stderr",
     "output_type": "stream",
     "text": [
      "lines ====> Hello\n",
      "lines ====> my name is Mr. Sambath, Hello ,Hello ,Hello\n",
      "lines ====> This is big class.\n",
      "lines ====> Today is Wednesday\n",
      "lines ====> Hello\n",
      "lines ====> my name is Mr. Sambath, Hello ,Hello ,Hello\n",
      "lines ====> This is big class.\n",
      "lines ====> Today is Wednesday\n",
      "lines ====> Hello\n",
      "lines ====> my name is Mr. Sambath, Hello ,Hello ,Hello\n",
      "lines ====> This is big class.\n",
      "lines ====> Today is WednesdayHello\n",
      "lines ====> my name is Mr. Sambath, Hello ,Hello ,Hello\n",
      "lines ====> This is big class.\n",
      "lines ====> Today is Wednesday\n"
     ]
    },
    {
     "data": {
      "text/plain": [
       "['Hello',\n",
       " 'my',\n",
       " 'name',\n",
       " 'is',\n",
       " 'Mr.',\n",
       " 'Sambath,',\n",
       " 'Hello',\n",
       " ',Hello',\n",
       " ',Hello',\n",
       " 'This',\n",
       " 'is',\n",
       " 'big',\n",
       " 'class.',\n",
       " 'Today',\n",
       " 'is',\n",
       " 'Wednesday',\n",
       " 'Hello',\n",
       " 'my',\n",
       " 'name',\n",
       " 'is',\n",
       " 'Mr.',\n",
       " 'Sambath,',\n",
       " 'Hello',\n",
       " ',Hello',\n",
       " ',Hello',\n",
       " 'This',\n",
       " 'is',\n",
       " 'big',\n",
       " 'class.',\n",
       " 'Today',\n",
       " 'is',\n",
       " 'Wednesday',\n",
       " 'Hello',\n",
       " 'my',\n",
       " 'name',\n",
       " 'is',\n",
       " 'Mr.',\n",
       " 'Sambath,',\n",
       " 'Hello',\n",
       " ',Hello',\n",
       " ',Hello',\n",
       " 'This',\n",
       " 'is',\n",
       " 'big',\n",
       " 'class.',\n",
       " 'Today',\n",
       " 'is',\n",
       " 'WednesdayHello',\n",
       " 'my',\n",
       " 'name',\n",
       " 'is',\n",
       " 'Mr.',\n",
       " 'Sambath,',\n",
       " 'Hello',\n",
       " ',Hello',\n",
       " ',Hello',\n",
       " 'This',\n",
       " 'is',\n",
       " 'big',\n",
       " 'class.',\n",
       " 'Today',\n",
       " 'is',\n",
       " 'Wednesday']"
      ]
     },
     "execution_count": 59,
     "metadata": {},
     "output_type": "execute_result"
    }
   ],
   "source": [
    "new_rdd \\\n",
    "    .flatMap(lambda x: x).collect()"
   ]
  },
  {
   "cell_type": "code",
   "execution_count": 60,
   "id": "19f8e775-bef0-4380-9ce0-f32f7433c4bc",
   "metadata": {
    "tags": []
   },
   "outputs": [
    {
     "name": "stderr",
     "output_type": "stream",
     "text": [
      "lines ====> Hello\n",
      "lines ====> my name is Mr. Sambath, Hello ,Hello ,Hello\n",
      "lines ====> This is big class.\n",
      "lines ====> Today is Wednesday\n",
      "lines ====> Hello\n",
      "lines ====> my name is Mr. Sambath, Hello ,Hello ,Hello\n",
      "lines ====> This is big class.\n",
      "lines ====> Today is Wednesday\n",
      "lines ====> Hello\n",
      "lines ====> my name is Mr. Sambath, Hello ,Hello ,Hello\n",
      "lines ====> This is big class.\n",
      "lines ====> Today is WednesdayHello\n",
      "lines ====> my name is Mr. Sambath, Hello ,Hello ,Hello\n",
      "lines ====> This is big class.\n",
      "lines ====> Today is Wednesday\n"
     ]
    },
    {
     "data": {
      "text/plain": [
       "[('Hello', 1),\n",
       " ('my', 1),\n",
       " ('name', 1),\n",
       " ('is', 1),\n",
       " ('Mr.', 1),\n",
       " ('Sambath,', 1),\n",
       " ('Hello', 1),\n",
       " (',Hello', 1),\n",
       " (',Hello', 1),\n",
       " ('This', 1),\n",
       " ('is', 1),\n",
       " ('big', 1),\n",
       " ('class.', 1),\n",
       " ('Today', 1),\n",
       " ('is', 1),\n",
       " ('Wednesday', 1),\n",
       " ('Hello', 1),\n",
       " ('my', 1),\n",
       " ('name', 1),\n",
       " ('is', 1),\n",
       " ('Mr.', 1),\n",
       " ('Sambath,', 1),\n",
       " ('Hello', 1),\n",
       " (',Hello', 1),\n",
       " (',Hello', 1),\n",
       " ('This', 1),\n",
       " ('is', 1),\n",
       " ('big', 1),\n",
       " ('class.', 1),\n",
       " ('Today', 1),\n",
       " ('is', 1),\n",
       " ('Wednesday', 1),\n",
       " ('Hello', 1),\n",
       " ('my', 1),\n",
       " ('name', 1),\n",
       " ('is', 1),\n",
       " ('Mr.', 1),\n",
       " ('Sambath,', 1),\n",
       " ('Hello', 1),\n",
       " (',Hello', 1),\n",
       " (',Hello', 1),\n",
       " ('This', 1),\n",
       " ('is', 1),\n",
       " ('big', 1),\n",
       " ('class.', 1),\n",
       " ('Today', 1),\n",
       " ('is', 1),\n",
       " ('WednesdayHello', 1),\n",
       " ('my', 1),\n",
       " ('name', 1),\n",
       " ('is', 1),\n",
       " ('Mr.', 1),\n",
       " ('Sambath,', 1),\n",
       " ('Hello', 1),\n",
       " (',Hello', 1),\n",
       " (',Hello', 1),\n",
       " ('This', 1),\n",
       " ('is', 1),\n",
       " ('big', 1),\n",
       " ('class.', 1),\n",
       " ('Today', 1),\n",
       " ('is', 1),\n",
       " ('Wednesday', 1)]"
      ]
     },
     "execution_count": 60,
     "metadata": {},
     "output_type": "execute_result"
    }
   ],
   "source": [
    "new_rdd \\\n",
    "    .flatMap(lambda x: x) \\\n",
    "    .map(lambda x: (x, 1)).collect()"
   ]
  },
  {
   "cell_type": "code",
   "execution_count": 72,
   "id": "23e0c21d-65c0-4bd9-9da1-82396c8225d8",
   "metadata": {
    "tags": []
   },
   "outputs": [
    {
     "name": "stderr",
     "output_type": "stream",
     "text": [
      "lines ====> Hello\n",
      "lines ====> my name is Mr. Sambath, Hello ,Hello ,Hello\n",
      "lines ====> Hello\n",
      "lines ====> my name is Mr. Sambath, Hello ,Hello ,Hello\n",
      "lines ====> This is big class.\n",
      "lines ====> Today is WednesdayHello\n",
      "lines ====> my name is Mr. Sambath, Hello ,Hello ,Hello\n",
      "lines ====> This is big class.\n",
      "lines ====> Today is Wednesdaylines ====> This is big class.\n",
      "lines ====> Today is Wednesday\n",
      "lines ====> Hello\n",
      "lines ====> my name is Mr. Sambath, Hello ,Hello ,Hello\n",
      "lines ====> This is big class.\n",
      "lines ====> Today is Wednesday\n",
      "\n"
     ]
    },
    {
     "data": {
      "text/plain": [
       "[(',Hello', 8), ('Hello', 7), ('Mr.', 4)]"
      ]
     },
     "execution_count": 72,
     "metadata": {},
     "output_type": "execute_result"
    }
   ],
   "source": [
    "new_rdd \\\n",
    "    .flatMap(lambda x: x) \\\n",
    "    .map(lambda x: (x, 1)) \\\n",
    "    .reduceByKey(function_add) \\\n",
    "    .sortBy(lambda x: x[0]) \\\n",
    "    .take(3)"
   ]
  },
  {
   "cell_type": "code",
   "execution_count": null,
   "id": "3ae8f828-1e1a-40f6-80af-ff953d76539d",
   "metadata": {},
   "outputs": [],
   "source": []
  }
 ],
 "metadata": {
  "kernelspec": {
   "display_name": "Python 3 (ipykernel)",
   "language": "python",
   "name": "python3"
  },
  "language_info": {
   "codemirror_mode": {
    "name": "ipython",
    "version": 3
   },
   "file_extension": ".py",
   "mimetype": "text/x-python",
   "name": "python",
   "nbconvert_exporter": "python",
   "pygments_lexer": "ipython3",
   "version": "3.11.5"
  }
 },
 "nbformat": 4,
 "nbformat_minor": 5
}
