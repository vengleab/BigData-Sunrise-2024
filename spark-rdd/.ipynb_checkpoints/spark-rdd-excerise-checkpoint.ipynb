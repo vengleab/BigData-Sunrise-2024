{
 "cells": [
  {
   "cell_type": "code",
   "execution_count": 1,
   "id": "b3656569-3738-406a-848d-01e880b29fac",
   "metadata": {
    "tags": []
   },
   "outputs": [],
   "source": [
    "from pyspark.sql.session import SparkSession"
   ]
  },
  {
   "cell_type": "code",
   "execution_count": 2,
   "id": "287ec6d6-ef89-4930-ba19-1f8009533c67",
   "metadata": {
    "tags": []
   },
   "outputs": [
    {
     "name": "stderr",
     "output_type": "stream",
     "text": [
      "24/03/21 18:48:07 WARN Utils: Your hostname, Macbooks-MacBook-Pro-2.local resolves to a loopback address: 127.0.0.1; using 10.5.50.139 instead (on interface en0)\n",
      "24/03/21 18:48:07 WARN Utils: Set SPARK_LOCAL_IP if you need to bind to another address\n",
      "Setting default log level to \"WARN\".\n",
      "To adjust logging level use sc.setLogLevel(newLevel). For SparkR, use setLogLevel(newLevel).\n",
      "24/03/21 18:48:08 WARN NativeCodeLoader: Unable to load native-hadoop library for your platform... using builtin-java classes where applicable\n"
     ]
    }
   ],
   "source": [
    "spark = SparkSession.builder.getOrCreate()"
   ]
  },
  {
   "cell_type": "code",
   "execution_count": 21,
   "id": "f20b8c45-9fb9-4d56-b26b-2a22f55c31dd",
   "metadata": {
    "tags": []
   },
   "outputs": [],
   "source": [
    "new_rdd_text = spark.sparkContext.textFile(\"./untitled2.txt\")"
   ]
  },
  {
   "cell_type": "code",
   "execution_count": 56,
   "id": "8e125958-ed6f-47d7-b344-9f51395882d7",
   "metadata": {
    "tags": []
   },
   "outputs": [
    {
     "data": {
      "text/plain": [
       "[('Hello', 1),\n",
       " ('dog', 1),\n",
       " ('cat', 1),\n",
       " ('rabbit', 1),\n",
       " ('dog', 1),\n",
       " ('rabbit,', 1),\n",
       " ('cat', 1),\n",
       " ('cat,', 1),\n",
       " ('cat,', 1),\n",
       " ('rabit', 1)]"
      ]
     },
     "execution_count": 56,
     "metadata": {},
     "output_type": "execute_result"
    }
   ],
   "source": [
    "new_rdd_text \\\n",
    "    .map(lambda lines: lines.split()) \\\n",
    "    .flatMap(lambda word: word) \\\n",
    "    .map(lambda word: (word, 1)) \\\n",
    "    .reduceByKey(lambda cumlative_count, count: cumlative_count+count) \\\n",
    "    .collect()\n",
    "    "
   ]
  },
  {
   "cell_type": "code",
   "execution_count": null,
   "id": "4b3dc515-97f4-40b8-b75a-48733e356b10",
   "metadata": {},
   "outputs": [],
   "source": []
  }
 ],
 "metadata": {
  "kernelspec": {
   "display_name": "Python 3 (ipykernel)",
   "language": "python",
   "name": "python3"
  },
  "language_info": {
   "codemirror_mode": {
    "name": "ipython",
    "version": 3
   },
   "file_extension": ".py",
   "mimetype": "text/x-python",
   "name": "python",
   "nbconvert_exporter": "python",
   "pygments_lexer": "ipython3",
   "version": "3.11.5"
  }
 },
 "nbformat": 4,
 "nbformat_minor": 5
}
