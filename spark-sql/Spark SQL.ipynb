{
 "cells": [
  {
   "cell_type": "code",
   "execution_count": 1,
   "id": "af97f858-9b5a-4f74-a0b2-7dec98c40e4f",
   "metadata": {
    "tags": []
   },
   "outputs": [
    {
     "name": "stderr",
     "output_type": "stream",
     "text": [
      "24/04/01 18:21:33 WARN Utils: Your hostname, Macbooks-MacBook-Pro-2.local resolves to a loopback address: 127.0.0.1; using 10.5.50.135 instead (on interface en0)\n",
      "24/04/01 18:21:33 WARN Utils: Set SPARK_LOCAL_IP if you need to bind to another address\n",
      "Setting default log level to \"WARN\".\n",
      "To adjust logging level use sc.setLogLevel(newLevel). For SparkR, use setLogLevel(newLevel).\n",
      "24/04/01 18:21:33 WARN NativeCodeLoader: Unable to load native-hadoop library for your platform... using builtin-java classes where applicable\n"
     ]
    }
   ],
   "source": [
    "from pyspark.sql.session import SparkSession\n",
    "\n",
    "spark = SparkSession.builder.getOrCreate()"
   ]
  },
  {
   "cell_type": "code",
   "execution_count": 2,
   "id": "a3e686f0-4cf5-4dda-9fb0-72d6568f77e3",
   "metadata": {
    "tags": []
   },
   "outputs": [
    {
     "data": {
      "text/html": [
       "\n",
       "            <div>\n",
       "                <p><b>SparkSession - in-memory</b></p>\n",
       "                \n",
       "        <div>\n",
       "            <p><b>SparkContext</b></p>\n",
       "\n",
       "            <p><a href=\"http://10.5.50.135:4040\">Spark UI</a></p>\n",
       "\n",
       "            <dl>\n",
       "              <dt>Version</dt>\n",
       "                <dd><code>v3.5.1</code></dd>\n",
       "              <dt>Master</dt>\n",
       "                <dd><code>local[*]</code></dd>\n",
       "              <dt>AppName</dt>\n",
       "                <dd><code>pyspark-shell</code></dd>\n",
       "            </dl>\n",
       "        </div>\n",
       "        \n",
       "            </div>\n",
       "        "
      ],
      "text/plain": [
       "<pyspark.sql.session.SparkSession at 0x110b79e90>"
      ]
     },
     "execution_count": 2,
     "metadata": {},
     "output_type": "execute_result"
    }
   ],
   "source": [
    "spark"
   ]
  },
  {
   "cell_type": "code",
   "execution_count": 3,
   "id": "e71f97ea-237c-4e73-a6a5-ca97e6ae3115",
   "metadata": {},
   "outputs": [],
   "source": [
    "# data = spark.read.csv(\"./sample_data - one_year.csv\", header=True)\n",
    "data = spark.read.csv(\"./sample_data - one_year.csv\", header=True, inferSchema=True)"
   ]
  },
  {
   "cell_type": "code",
   "execution_count": 4,
   "id": "e7051f77-bb4a-4c81-8d95-fc1440cf2ca5",
   "metadata": {
    "tags": []
   },
   "outputs": [],
   "source": [
    "# if we prepare working with sql\n",
    "data.createTempView(\"vw_dataset\")"
   ]
  },
  {
   "cell_type": "markdown",
   "id": "77d572e2-9dbf-41e8-b155-78d4143272e5",
   "metadata": {
    "tags": []
   },
   "source": [
    "# Understand dataset"
   ]
  },
  {
   "cell_type": "code",
   "execution_count": 5,
   "id": "ae79870f-f938-4e2e-9467-3a9683b1dcd9",
   "metadata": {
    "tags": []
   },
   "outputs": [
    {
     "name": "stdout",
     "output_type": "stream",
     "text": [
      "root\n",
      " |-- loan_amnt: integer (nullable = true)\n",
      " |-- term: string (nullable = true)\n",
      " |-- int_rate: double (nullable = true)\n",
      " |-- installment: double (nullable = true)\n",
      " |-- grade: string (nullable = true)\n",
      " |-- sub_grade: string (nullable = true)\n",
      " |-- emp_title: string (nullable = true)\n",
      " |-- emp_length: string (nullable = true)\n",
      " |-- annual_inc: double (nullable = true)\n",
      " |-- issue_d: string (nullable = true)\n",
      " |-- loan_status: boolean (nullable = true)\n",
      " |-- monthly_income: double (nullable = true)\n",
      " |-- emp_industry: string (nullable = true)\n",
      " |-- age: integer (nullable = true)\n",
      "\n"
     ]
    }
   ],
   "source": [
    "data.printSchema()"
   ]
  },
  {
   "cell_type": "markdown",
   "id": "13b908d0-f3f1-4ab9-8713-5b7005a43f13",
   "metadata": {},
   "source": [
    "## Get a few row"
   ]
  },
  {
   "cell_type": "markdown",
   "id": "dad68800-93d0-45c3-b1e8-48679df07a6f",
   "metadata": {},
   "source": [
    "### By dataframe python api"
   ]
  },
  {
   "cell_type": "code",
   "execution_count": 6,
   "id": "693a607b-0964-4f85-938c-17ff89c253d8",
   "metadata": {
    "tags": []
   },
   "outputs": [
    {
     "name": "stdout",
     "output_type": "stream",
     "text": [
      "+---------+----------+--------+-----------+-----+---------+--------------------+----------+----------+-------+-----------+------------------+------------+---+\n",
      "|loan_amnt|      term|int_rate|installment|grade|sub_grade|           emp_title|emp_length|annual_inc|issue_d|loan_status|    monthly_income|emp_industry|age|\n",
      "+---------+----------+--------+-----------+-----+---------+--------------------+----------+----------+-------+-----------+------------------+------------+---+\n",
      "|     5000| 36 months|   13.56|     169.83|    C|       C1|Public Affairs Sp...| 10+ years|  175000.0| Aug-18|      false|14583.333333333334|       other| 33|\n",
      "|     4000| 36 months|    10.9|     130.77|    B|       B4|     Reception/Sales|    1 year|   25000.0| Mar-18|       true|2083.3333333333335|       other| 21|\n",
      "+---------+----------+--------+-----------+-----+---------+--------------------+----------+----------+-------+-----------+------------------+------------+---+\n",
      "only showing top 2 rows\n",
      "\n"
     ]
    }
   ],
   "source": [
    "data.show(2)"
   ]
  },
  {
   "cell_type": "markdown",
   "id": "cf262b92-5e3a-4ff0-9d4d-5280f4a24377",
   "metadata": {},
   "source": [
    "### By Spark SQL"
   ]
  },
  {
   "cell_type": "code",
   "execution_count": 7,
   "id": "4d8433fe-9b1b-4dda-a73b-8838fe02d916",
   "metadata": {
    "tags": []
   },
   "outputs": [
    {
     "name": "stdout",
     "output_type": "stream",
     "text": [
      "+---------+----------+--------+-----------+-----+---------+--------------------+----------+----------+-------+-----------+------------------+------------+---+\n",
      "|loan_amnt|      term|int_rate|installment|grade|sub_grade|           emp_title|emp_length|annual_inc|issue_d|loan_status|    monthly_income|emp_industry|age|\n",
      "+---------+----------+--------+-----------+-----+---------+--------------------+----------+----------+-------+-----------+------------------+------------+---+\n",
      "|     5000| 36 months|   13.56|     169.83|    C|       C1|Public Affairs Sp...| 10+ years|  175000.0| Aug-18|      false|14583.333333333334|       other| 33|\n",
      "|     4000| 36 months|    10.9|     130.77|    B|       B4|     Reception/Sales|    1 year|   25000.0| Mar-18|       true|2083.3333333333335|       other| 21|\n",
      "+---------+----------+--------+-----------+-----+---------+--------------------+----------+----------+-------+-----------+------------------+------------+---+\n",
      "\n"
     ]
    }
   ],
   "source": [
    "spark.sql(\"select * from vw_dataset limit 2\").show();"
   ]
  },
  {
   "cell_type": "markdown",
   "id": "3d4359e4-364b-4a46-8eaa-9764fb38ce28",
   "metadata": {},
   "source": [
    "## Get a few columns"
   ]
  },
  {
   "cell_type": "markdown",
   "id": "ce920d58-d3ba-45ae-ae7c-7e56f38cc77b",
   "metadata": {
    "tags": []
   },
   "source": [
    "### By dataframe python api"
   ]
  },
  {
   "cell_type": "code",
   "execution_count": 8,
   "id": "27e07426-fb07-48ff-a50f-89399608cbc9",
   "metadata": {
    "tags": []
   },
   "outputs": [
    {
     "name": "stdout",
     "output_type": "stream",
     "text": [
      "+---------+----------+\n",
      "|loan_amnt|      term|\n",
      "+---------+----------+\n",
      "|     5000| 36 months|\n",
      "|     4000| 36 months|\n",
      "|     5000| 36 months|\n",
      "|     5500| 36 months|\n",
      "|    11200| 60 months|\n",
      "|    36000| 60 months|\n",
      "|    21925| 36 months|\n",
      "|    10000| 36 months|\n",
      "|     7925| 36 months|\n",
      "|    10000| 36 months|\n",
      "+---------+----------+\n",
      "only showing top 10 rows\n",
      "\n"
     ]
    }
   ],
   "source": [
    "data.select(\"loan_amnt\", \"term\").show(10)"
   ]
  },
  {
   "cell_type": "markdown",
   "id": "95850a16-008a-4a31-b574-f9e26fa0e509",
   "metadata": {},
   "source": [
    "### By Spark SQL"
   ]
  },
  {
   "cell_type": "code",
   "execution_count": 9,
   "id": "c8a1224c-b029-4b02-8fd7-d1176235a782",
   "metadata": {
    "tags": []
   },
   "outputs": [],
   "source": [
    "df = spark.sql(\"select loan_amnt, term from vw_dataset\")"
   ]
  },
  {
   "cell_type": "code",
   "execution_count": 10,
   "id": "c2997358-d250-44bc-8c9f-121c409fec0f",
   "metadata": {
    "tags": []
   },
   "outputs": [
    {
     "name": "stdout",
     "output_type": "stream",
     "text": [
      "+---------+----------+\n",
      "|loan_amnt|      term|\n",
      "+---------+----------+\n",
      "|     5000| 36 months|\n",
      "|     4000| 36 months|\n",
      "+---------+----------+\n",
      "only showing top 2 rows\n",
      "\n"
     ]
    }
   ],
   "source": [
    "df.select(\"*\").show(2)"
   ]
  },
  {
   "cell_type": "markdown",
   "id": "6efe5c40-c4f8-4994-b6d4-83bff4358d1a",
   "metadata": {
    "tags": []
   },
   "source": [
    "# Analyse data"
   ]
  },
  {
   "cell_type": "markdown",
   "id": "97661751-7db2-4483-8242-4493bdbd556e",
   "metadata": {},
   "source": [
    "## Loan group"
   ]
  },
  {
   "cell_type": "code",
   "execution_count": 11,
   "id": "5878ebea-c1dd-4b4e-a22d-8103fb5d5bd4",
   "metadata": {
    "tags": []
   },
   "outputs": [],
   "source": [
    "from pyspark.sql.functions import when\n",
    "new_df = data.withColumn(\"loan_group\", when(data.loan_amnt > 5000, \"big amount\").otherwise(\"small amount\"))"
   ]
  },
  {
   "cell_type": "code",
   "execution_count": 12,
   "id": "8375e571-0604-4b4b-8369-ffbcf08407bc",
   "metadata": {
    "tags": []
   },
   "outputs": [
    {
     "name": "stdout",
     "output_type": "stream",
     "text": [
      "+------------+-----+\n",
      "|  loan_group|count|\n",
      "+------------+-----+\n",
      "|small amount| 6513|\n",
      "|  big amount|43011|\n",
      "+------------+-----+\n",
      "\n"
     ]
    }
   ],
   "source": [
    "new_df.select(\"loan_group\", \"loan_amnt\").groupby('loan_group').count().show()"
   ]
  },
  {
   "cell_type": "code",
   "execution_count": 13,
   "id": "6b966ee2-32c8-44e4-870e-e6f1b4635bd8",
   "metadata": {
    "tags": []
   },
   "outputs": [
    {
     "data": {
      "text/plain": [
       "<Axes: ylabel='Frequency'>"
      ]
     },
     "execution_count": 13,
     "metadata": {},
     "output_type": "execute_result"
    },
    {
     "data": {
      "image/png": "[encoded data removed]",
      "text/plain": [
       "<Figure size 640x480 with 1 Axes>"
      ]
     },
     "metadata": {},
     "output_type": "display_data"
    }
   ],
   "source": [
    "new_df.toPandas()['loan_amnt'].plot.hist()"
   ]
  },
  {
   "cell_type": "markdown",
   "id": "c3fa0b22-8cd6-469c-a10b-6f687ffdfbda",
   "metadata": {},
   "source": [
    "## What is the average amount of Rejected Loan and approved loan?"
   ]
  },
  {
   "cell_type": "code",
   "execution_count": 14,
   "id": "6bd946ab-dc44-4fb5-94dc-cb814ea471bf",
   "metadata": {
    "tags": []
   },
   "outputs": [
    {
     "name": "stdout",
     "output_type": "stream",
     "text": [
      "+-----------+------------------+\n",
      "|loan_status|    avg(loan_amnt)|\n",
      "+-----------+------------------+\n",
      "|       true| 17016.26348665531|\n",
      "|      false|15963.130848007073|\n",
      "+-----------+------------------+\n",
      "\n"
     ]
    }
   ],
   "source": [
    "data.select(\"loan_status\", \"loan_amnt\").groupBy(\"loan_status\").mean().show()"
   ]
  },
  {
   "cell_type": "code",
   "execution_count": 15,
   "id": "a3adcc69-0359-4be8-b589-8cfcafc28b5b",
   "metadata": {
    "tags": []
   },
   "outputs": [
    {
     "data": {
      "text/plain": [
       "<Axes: xlabel='loan_amnt', ylabel='Count'>"
      ]
     },
     "execution_count": 15,
     "metadata": {},
     "output_type": "execute_result"
    },
    {
     "data": {
      "image/png": "[encoded data removed]",
      "text/plain": [
       "<Figure size 640x480 with 1 Axes>"
      ]
     },
     "metadata": {},
     "output_type": "display_data"
    }
   ],
   "source": [
    "import matplotlib.pyplot as plt\n",
    "import seaborn as sns\n",
    "\n",
    "pandas_df = data.toPandas()\n",
    "\n",
    "sns.histplot(pandas_df, x= pandas_df['loan_amnt'], hue='term', bins=10)"
   ]
  },
  {
   "cell_type": "markdown",
   "id": "ba601c18-c596-4ae7-8356-97f2b8d11ec7",
   "metadata": {
    "tags": []
   },
   "source": [
    "## Which employment title that likely to be rejected for the loan?"
   ]
  },
  {
   "cell_type": "code",
   "execution_count": 16,
   "id": "87f72282-5582-487b-bf84-2c5c046a854f",
   "metadata": {
    "tags": []
   },
   "outputs": [
    {
     "name": "stdout",
     "output_type": "stream",
     "text": [
      "+---------+-----+\n",
      "|emp_title|count|\n",
      "+---------+-----+\n",
      "|    other| 5709|\n",
      "|  Manager|  883|\n",
      "+---------+-----+\n",
      "only showing top 2 rows\n",
      "\n"
     ]
    }
   ],
   "source": [
    "whole_count = data.groupby( \"emp_title\").count().sort([\"count\"], ascending=False)\n",
    "whole_count.show(2)"
   ]
  },
  {
   "cell_type": "code",
   "execution_count": 17,
   "id": "a353ede0-d556-4948-8e67-4056ecabeb5e",
   "metadata": {
    "tags": []
   },
   "outputs": [
    {
     "name": "stdout",
     "output_type": "stream",
     "text": [
      "+---------+-----+\n",
      "|emp_title|count|\n",
      "+---------+-----+\n",
      "|    other| 4486|\n",
      "|  Manager|  715|\n",
      "|  Teacher|  711|\n",
      "+---------+-----+\n",
      "only showing top 3 rows\n",
      "\n"
     ]
    }
   ],
   "source": [
    "reject_count = data.filter(data.loan_status == False).groupby( \"emp_title\").count().sort([\"count\"], ascending=False)\n",
    "reject_count.show(3)"
   ]
  },
  {
   "cell_type": "code",
   "execution_count": 18,
   "id": "e74d3963-0090-425e-a40e-58521e4bde71",
   "metadata": {
    "tags": []
   },
   "outputs": [
    {
     "name": "stdout",
     "output_type": "stream",
     "text": [
      "+--------------------+-------+--------------------+-----+\n",
      "|         w_emp_title|w_count|           emp_title|count|\n",
      "+--------------------+-------+--------------------+-----+\n",
      "|Training Specialist |      3|Training Specialist |    3|\n",
      "|           Physician|     35|           Physician|   32|\n",
      "|           machinist|     16|           machinist|   14|\n",
      "+--------------------+-------+--------------------+-----+\n",
      "only showing top 3 rows\n",
      "\n"
     ]
    }
   ],
   "source": [
    "w_count = whole_count.selectExpr(\"emp_title as w_emp_title\", \"count as w_count\") \n",
    "\n",
    "df = w_count \\\n",
    " .join(reject_count, w_count.w_emp_title == reject_count.emp_title)\n",
    "df.show(3)"
   ]
  },
  {
   "cell_type": "code",
   "execution_count": 19,
   "id": "bf67a4c8-125d-4ae1-83d0-1e737756d20e",
   "metadata": {
    "tags": []
   },
   "outputs": [
    {
     "name": "stdout",
     "output_type": "stream",
     "text": [
      "+--------------------+-------+--------------------+-----+-------------------+\n",
      "|         w_emp_title|w_count|           emp_title|count|rejected_percentage|\n",
      "+--------------------+-------+--------------------+-----+-------------------+\n",
      "|            Director|    159|            Director|  141| 0.8867924528301887|\n",
      "|      Office Manager|    242|      Office Manager|  214| 0.8842975206611571|\n",
      "|               Nurse|    138|               Nurse|  120| 0.8695652173913043|\n",
      "|    Registered Nurse|    364|    Registered Nurse|  316| 0.8681318681318682|\n",
      "|     General Manager|    194|     General Manager|  168|  0.865979381443299|\n",
      "|     Project Manager|    212|     Project Manager|  183| 0.8632075471698113|\n",
      "|       Sales Manager|    123|       Sales Manager|  106| 0.8617886178861789|\n",
      "|             Teacher|    828|             Teacher|  711| 0.8586956521739131|\n",
      "|Administrative As...|    105|Administrative As...|   90| 0.8571428571428571|\n",
      "|                  RN|    288|                  RN|  244| 0.8472222222222222|\n",
      "+--------------------+-------+--------------------+-----+-------------------+\n",
      "only showing top 10 rows\n",
      "\n"
     ]
    }
   ],
   "source": [
    "from pyspark.sql.functions import col\n",
    "\n",
    "(df\n",
    " .withColumn(\"rejected_percentage\", df[\"count\"] / df.w_count )\n",
    " .filter(df.w_count >100)\n",
    " .sort(\"rejected_percentage\", ascending=False)\n",
    " .show(10)\n",
    ")"
   ]
  },
  {
   "cell_type": "code",
   "execution_count": 20,
   "id": "6dc20096-2201-4741-acc8-29c6f152a38c",
   "metadata": {
    "tags": []
   },
   "outputs": [
    {
     "name": "stdout",
     "output_type": "stream",
     "text": [
      "+--------------------+-------+--------------------+-----+-------------------+\n",
      "|         w_emp_title|w_count|           emp_title|count|rejected_percentage|\n",
      "+--------------------+-------+--------------------+-----+-------------------+\n",
      "|Special Education...|     15|Special Education...|   15|                1.0|\n",
      "|          Bartender |     17|          Bartender |   17|                1.0|\n",
      "|  Assistant Director|     12|  Assistant Director|   12|                1.0|\n",
      "|            Sergeant|     12|            Sergeant|   12|                1.0|\n",
      "|           Marketing|     12|           Marketing|   12|                1.0|\n",
      "|Speech Language P...|     11|Speech Language P...|   11|                1.0|\n",
      "|    Office Assistant|     12|    Office Assistant|   12|                1.0|\n",
      "|Human Resources M...|     16|Human Resources M...|   16|                1.0|\n",
      "|     Police officer |     14|     Police officer |   14|                1.0|\n",
      "| Associate Professor|     17| Associate Professor|   17|                1.0|\n",
      "+--------------------+-------+--------------------+-----+-------------------+\n",
      "only showing top 10 rows\n",
      "\n"
     ]
    }
   ],
   "source": [
    "from pyspark.sql.functions import col\n",
    "\n",
    "w_count = whole_count.selectExpr(\"emp_title as w_emp_title\", \"count as w_count\") \n",
    "reject_probability = (w_count\n",
    " .join(reject_count, w_count.w_emp_title == reject_count.emp_title)\n",
    " .withColumn(\"rejected_percentage\", col(\"count\")/ col(\"w_count\"))\n",
    " .filter(col(\"w_count\") >10)\n",
    " .sort(\"rejected_percentage\", ascending=False)\n",
    ")\n",
    "reject_probability.show(10)"
   ]
  },
  {
   "cell_type": "code",
   "execution_count": 21,
   "id": "7d666b24-a704-41ec-be4b-f3db32bf7c9a",
   "metadata": {
    "tags": []
   },
   "outputs": [
    {
     "name": "stdout",
     "output_type": "stream",
     "text": [
      "root\n",
      " |-- w_emp_title: string (nullable = true)\n",
      " |-- w_count: long (nullable = false)\n",
      " |-- emp_title: string (nullable = true)\n",
      " |-- count: long (nullable = false)\n",
      " |-- rejected_percentage: double (nullable = true)\n",
      "\n"
     ]
    }
   ],
   "source": [
    "reject_probability.printSchema()"
   ]
  },
  {
   "cell_type": "code",
   "execution_count": 22,
   "id": "4dd62221-fe0d-4571-8475-560afd5c901d",
   "metadata": {
    "tags": []
   },
   "outputs": [
    {
     "data": {
      "text/plain": [
       "<Axes: xlabel='rejected_percentage', ylabel='Count'>"
      ]
     },
     "execution_count": 22,
     "metadata": {},
     "output_type": "execute_result"
    },
    {
     "data": {
      "image/png": "[encoded data removed]",
      "text/plain": [
       "<Figure size 640x480 with 1 Axes>"
      ]
     },
     "metadata": {},
     "output_type": "display_data"
    }
   ],
   "source": [
    "pd_reject = reject_probability.toPandas()\n",
    "sns.histplot(pd_reject, x=pd_reject['rejected_percentage'], stat=\"count\")"
   ]
  },
  {
   "cell_type": "markdown",
   "id": "456c5e63-a22e-415e-837d-39ac25955854",
   "metadata": {
    "tags": []
   },
   "source": [
    "## Does the loan status impacted by employment title or not?"
   ]
  },
  {
   "cell_type": "code",
   "execution_count": 23,
   "id": "026d0751-a38c-4bf3-ae84-c7d012408ba2",
   "metadata": {},
   "outputs": [],
   "source": [
    "# Base in asumption, employment title does not impact much to loan status"
   ]
  },
  {
   "cell_type": "markdown",
   "id": "fab64661-4938-480c-84c6-7347aa7fa86b",
   "metadata": {},
   "source": [
    "## Which grades that likely to be approve for the loan?"
   ]
  },
  {
   "cell_type": "code",
   "execution_count": 32,
   "id": "a433f792-9187-4596-bd4d-4ea63569e339",
   "metadata": {},
   "outputs": [
    {
     "name": "stdout",
     "output_type": "stream",
     "text": [
      "+-----+-----+\n",
      "|grade|count|\n",
      "+-----+-----+\n",
      "|    F|  237|\n",
      "|    E|  876|\n",
      "|    B| 1768|\n",
      "|    D| 2482|\n",
      "|    C| 2730|\n",
      "|    A|  656|\n",
      "|    G|   56|\n",
      "+-----+-----+\n",
      "\n"
     ]
    }
   ],
   "source": [
    "approve_loan = data.filter(data[\"loan_status\"] == True).select(\"grade\").groupby(\"grade\").count()\n",
    "approve_loan.show()"
   ]
  },
  {
   "cell_type": "code",
   "execution_count": 44,
   "id": "0bc66831-6e9b-4d03-9ff6-4df8e0be4b69",
   "metadata": {
    "tags": []
   },
   "outputs": [
    {
     "name": "stdout",
     "output_type": "stream",
     "text": [
      "+-----+-----+\n",
      "|grade|count|\n",
      "+-----+-----+\n",
      "|    F|  502|\n",
      "|    E| 2409|\n",
      "+-----+-----+\n",
      "only showing top 2 rows\n",
      "\n"
     ]
    }
   ],
   "source": [
    "data.select(\"grade\").groupby(\"grade\").count().show(2)"
   ]
  },
  {
   "cell_type": "code",
   "execution_count": 43,
   "id": "840b510f-1330-41b6-904f-29cf1d15583f",
   "metadata": {
    "tags": []
   },
   "outputs": [
    {
     "name": "stdout",
     "output_type": "stream",
     "text": [
      "+--------------+--------------+\n",
      "|all_loan_grade|all_loan_count|\n",
      "+--------------+--------------+\n",
      "|             F|           502|\n",
      "|             E|          2409|\n",
      "|             B|         13481|\n",
      "|             D|          8154|\n",
      "|             C|         13103|\n",
      "|             A|         11781|\n",
      "|             G|            94|\n",
      "+--------------+--------------+\n",
      "\n"
     ]
    }
   ],
   "source": [
    "all_loan_by_grade = data.select(\"grade\").groupby(\"grade\").count().selectExpr(\"grade as all_loan_grade\", \"count as all_loan_count\")\n",
    "all_loan_by_grade.show()"
   ]
  },
  {
   "cell_type": "code",
   "execution_count": 48,
   "id": "45efef52-3b7c-4b71-a99a-68331cd79b38",
   "metadata": {
    "tags": []
   },
   "outputs": [
    {
     "name": "stdout",
     "output_type": "stream",
     "text": [
      "+--------------+--------------+-----+-----+\n",
      "|all_loan_grade|all_loan_count|grade|count|\n",
      "+--------------+--------------+-----+-----+\n",
      "|             F|           502|    F|  237|\n",
      "|             E|          2409|    E|  876|\n",
      "|             B|         13481|    B| 1768|\n",
      "|             D|          8154|    D| 2482|\n",
      "|             C|         13103|    C| 2730|\n",
      "|             A|         11781|    A|  656|\n",
      "|             G|            94|    G|   56|\n",
      "+--------------+--------------+-----+-----+\n",
      "\n"
     ]
    }
   ],
   "source": [
    "# joint_dataset = all_loan_by_grade.join(approve_loan, all_loan_by_grade.all_loan_grade == approve_loan.grade) \n",
    "\n",
    "joint_dataset = all_loan_by_grade.join(approve_loan, all_loan_by_grade[\"all_loan_grade\"] == approve_loan[\"grade\"])\n",
    "joint_dataset.show()"
   ]
  },
  {
   "cell_type": "code",
   "execution_count": 56,
   "id": "7acbd6bc-4e4e-4ba1-919f-d74778507b55",
   "metadata": {
    "tags": []
   },
   "outputs": [
    {
     "name": "stdout",
     "output_type": "stream",
     "text": [
      "+--------------+--------------+-----+-----+--------------------+\n",
      "|all_loan_grade|all_loan_count|grade|count|          percentage|\n",
      "+--------------+--------------+-----+-----+--------------------+\n",
      "|             G|            94|    G|   56|  0.5957446808510638|\n",
      "|             F|           502|    F|  237|  0.4721115537848606|\n",
      "|             E|          2409|    E|  876| 0.36363636363636365|\n",
      "|             D|          8154|    D| 2482|  0.3043904831984302|\n",
      "|             C|         13103|    C| 2730| 0.20834923300007632|\n",
      "|             B|         13481|    B| 1768| 0.13114754098360656|\n",
      "|             A|         11781|    A|  656|0.055682879212290974|\n",
      "+--------------+--------------+-----+-----+--------------------+\n",
      "\n"
     ]
    }
   ],
   "source": [
    "joint_dataset.withColumn(\"percentage\", joint_dataset[\"count\"] / joint_dataset[\"all_loan_count\"]).sort(\"percentage\", ascending=False).show()"
   ]
  },
  {
   "cell_type": "code",
   "execution_count": null,
   "id": "ac3e82e2-a15f-4333-8a96-6891b5f5ab72",
   "metadata": {},
   "outputs": [],
   "source": []
  },
  {
   "cell_type": "code",
   "execution_count": null,
   "id": "4386c67e-ebee-4063-9776-665340c2ca73",
   "metadata": {},
   "outputs": [],
   "source": []
  },
  {
   "cell_type": "markdown",
   "id": "add07980-c058-4814-9bfe-2ba4c9c7d787",
   "metadata": {},
   "source": [
    "## What are applicant's grades within dataset?"
   ]
  },
  {
   "cell_type": "code",
   "execution_count": null,
   "id": "ee04f285-6e8e-408d-9100-79aedc5697e3",
   "metadata": {},
   "outputs": [],
   "source": []
  },
  {
   "cell_type": "markdown",
   "id": "9c3bd018-77b4-4381-8843-bbf0995aa427",
   "metadata": {
    "tags": []
   },
   "source": [
    "## What are minimun and maximum interest rate in the datasets?"
   ]
  },
  {
   "cell_type": "code",
   "execution_count": null,
   "id": "65ebea25-8a77-4b11-9560-2606aeece0bd",
   "metadata": {},
   "outputs": [],
   "source": []
  },
  {
   "cell_type": "markdown",
   "id": "49d766b4-3537-49e3-b31c-7a16aa2b84b1",
   "metadata": {},
   "source": [
    "## What are minimun and maximum interest rate in the rejected loan?"
   ]
  },
  {
   "cell_type": "code",
   "execution_count": null,
   "id": "d264abe2-73fd-470d-b539-78593c239bde",
   "metadata": {},
   "outputs": [],
   "source": []
  },
  {
   "cell_type": "markdown",
   "id": "babd5180-9cf2-42f7-af00-cc787d1a454d",
   "metadata": {},
   "source": [
    "## What are minimun and maximum interest rate in the approved loan?"
   ]
  },
  {
   "cell_type": "code",
   "execution_count": null,
   "id": "7e1280c0-2107-44e3-a4c8-8680748b976c",
   "metadata": {},
   "outputs": [],
   "source": []
  },
  {
   "cell_type": "code",
   "execution_count": null,
   "id": "2732cdf5-23f4-4bad-afcb-16f65eae3f3a",
   "metadata": {},
   "outputs": [],
   "source": []
  },
  {
   "cell_type": "code",
   "execution_count": null,
   "id": "add27dc0-c413-46a3-830b-17cdac5f87f3",
   "metadata": {},
   "outputs": [],
   "source": []
  },
  {
   "cell_type": "code",
   "execution_count": null,
   "id": "1087af04-e9ab-42af-8ab1-f9bc5f792a08",
   "metadata": {},
   "outputs": [],
   "source": []
  },
  {
   "cell_type": "code",
   "execution_count": null,
   "id": "558315e5-6e28-4c48-aa50-c3ff15567da1",
   "metadata": {},
   "outputs": [],
   "source": []
  },
  {
   "cell_type": "code",
   "execution_count": null,
   "id": "81dfc81b-c6e6-4c11-95fa-214173d8c7e4",
   "metadata": {},
   "outputs": [],
   "source": []
  },
  {
   "cell_type": "code",
   "execution_count": null,
   "id": "b5a0f7c3-f484-45ff-afd1-926f3354861d",
   "metadata": {},
   "outputs": [],
   "source": []
  },
  {
   "cell_type": "code",
   "execution_count": null,
   "id": "31840715-36e1-4741-9602-976a96ab52c3",
   "metadata": {},
   "outputs": [],
   "source": []
  },
  {
   "cell_type": "code",
   "execution_count": null,
   "id": "6e57d5a7-8621-464e-9bc9-cbbd6fb7812b",
   "metadata": {},
   "outputs": [],
   "source": []
  },
  {
   "cell_type": "markdown",
   "id": "a8ec5860-ce8a-4217-a64e-63edb7eb5151",
   "metadata": {
    "tags": []
   },
   "source": [
    "# If prefer to work with pandas"
   ]
  },
  {
   "cell_type": "code",
   "execution_count": null,
   "id": "636862d2-a3ae-454e-a921-3668d0477e2f",
   "metadata": {
    "tags": []
   },
   "outputs": [],
   "source": [
    "data.to_pandas_on_spark()"
   ]
  },
  {
   "cell_type": "code",
   "execution_count": null,
   "id": "85b8b51c-d8d2-48ba-af36-a154525424e5",
   "metadata": {},
   "outputs": [],
   "source": []
  }
 ],
 "metadata": {
  "kernelspec": {
   "display_name": "Python 3 (ipykernel)",
   "language": "python",
   "name": "python3"
  },
  "language_info": {
   "codemirror_mode": {
    "name": "ipython",
    "version": 3
   },
   "file_extension": ".py",
   "mimetype": "text/x-python",
   "name": "python",
   "nbconvert_exporter": "python",
   "pygments_lexer": "ipython3",
   "version": "3.11.5"
  }
 },
 "nbformat": 4,
 "nbformat_minor": 5
}
